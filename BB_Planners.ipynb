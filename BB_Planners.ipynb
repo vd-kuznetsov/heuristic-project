{
  "cells": [
    {
      "cell_type": "markdown",
      "metadata": {
        "id": "lR5QCZuhKVoz"
      },
      "source": [
        "# Prepare"
      ]
    },
    {
      "cell_type": "markdown",
      "metadata": {
        "id": "iz8E6bNiKJN7"
      },
      "source": [
        "Install"
      ]
    },
    {
      "cell_type": "code",
      "execution_count": 1,
      "metadata": {
        "id": "3baHsi0M2Y1H"
      },
      "outputs": [],
      "source": [
        "# !unzip blackbox.zip\n",
        "# %cd blackbox\n",
        "# !pip install -r requirements.txt\n",
        "# !pip install grpcio==1.42.0\n",
        "# !pip install tensorboard==1.12\n",
        "\n",
        "# !pip install --upgrade matplotlib\n",
        "# !pip install basemap\n",
        "# !pip install wandb==0.15.0\n",
        "\n",
        "# !pip uninstall protobuf\n",
        "# !pip install protobuf==3.19.6"
      ]
    },
    {
      "cell_type": "markdown",
      "metadata": {
        "id": "suVXBR8WJ88q"
      },
      "source": [
        "Download Data"
      ]
    },
    {
      "cell_type": "code",
      "execution_count": 2,
      "metadata": {
        "id": "wmvn5KUY0ZQZ"
      },
      "outputs": [],
      "source": [
        "%cd data\n",
        "!gdown 1_q4qScXJg19BpXiOpKLgKamw0JuH2BN7\n",
        "!tar -xf warcraft_maps.tar.gz\n",
        "!mv warcraft_shortest_path_oneskin warcraft_shortest_path\n",
        "%cd .."
      ]
    },
    {
      "attachments": {},
      "cell_type": "markdown",
      "metadata": {},
      "source": [
        "## Clone our Fork"
      ]
    },
    {
      "cell_type": "code",
      "execution_count": null,
      "metadata": {},
      "outputs": [],
      "source": [
        "!git clone https://github.com/Petilia/blackbox-differentiation-combinatorial-solvers\n",
        "%cd blackbox-differentiation-combinatorial-solvers"
      ]
    },
    {
      "cell_type": "markdown",
      "metadata": {
        "id": "tpTky0fGKYZW"
      },
      "source": [
        "# Train"
      ]
    },
    {
      "cell_type": "markdown",
      "metadata": {
        "id": "F_h9OtQgyU9T"
      },
      "source": [
        "Run Warcraft shortest path experiment with gradients through Dijkstra:"
      ]
    },
    {
      "cell_type": "code",
      "execution_count": 1,
      "metadata": {
        "colab": {
          "base_uri": "https://localhost:8080/"
        },
        "id": "l5_APuJoyQZk",
        "outputId": "ff297028-9e57-4844-9629-61e19bbc7e2a"
      },
      "outputs": [],
      "source": [
        "!python main.py settings/warcraft_shortest_path/12x12_combresnet.json"
      ]
    },
    {
      "cell_type": "markdown",
      "metadata": {
        "id": "fM8Hmm86yWl2"
      },
      "source": [
        "Run Warcraft shortest path baseline ResNet18 experiment:"
      ]
    },
    {
      "cell_type": "code",
      "execution_count": 2,
      "metadata": {
        "colab": {
          "base_uri": "https://localhost:8080/"
        },
        "id": "xKclwFYNyY39",
        "outputId": "c91c4776-6c27-4634-ea18-df759c91df6d"
      },
      "outputs": [],
      "source": [
        "!python main.py settings/warcraft_shortest_path/12x12_baseline.json"
      ]
    },
    {
      "cell_type": "code",
      "execution_count": null,
      "metadata": {},
      "outputs": [],
      "source": []
    }
  ],
  "metadata": {
    "accelerator": "GPU",
    "colab": {
      "gpuType": "T4",
      "provenance": [],
      "toc_visible": true
    },
    "gpuClass": "standard",
    "kernelspec": {
      "display_name": "plan_proj",
      "language": "python",
      "name": "python3"
    },
    "language_info": {
      "codemirror_mode": {
        "name": "ipython",
        "version": 3
      },
      "file_extension": ".py",
      "mimetype": "text/x-python",
      "name": "python",
      "nbconvert_exporter": "python",
      "pygments_lexer": "ipython3",
      "version": "3.8.16"
    },
    "vscode": {
      "interpreter": {
        "hash": "2cc23253ae4c240356024d0952134c665abe4e8b19fc56f719a33e6b31ca896f"
      }
    }
  },
  "nbformat": 4,
  "nbformat_minor": 0
}
